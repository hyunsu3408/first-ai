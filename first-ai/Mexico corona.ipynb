{
 "cells": [
  {
   "cell_type": "code",
   "execution_count": 9,
   "metadata": {},
   "outputs": [],
   "source": [
    "import pandas as pd\n",
    "import matplotlib.pyplot as plt\n",
    "\n",
    "#csv 파일 읽기\n",
    "df = pd.read_csv(\"Covid Data.csv\")\n",
    "df['died'] = df['DATE_DIED'] != '9999-99-99'"
   ]
  },
  {
   "cell_type": "code",
   "execution_count": 10,
   "metadata": {},
   "outputs": [
    {
     "name": "stdout",
     "output_type": "stream",
     "text": [
      "<class 'pandas.core.frame.DataFrame'>\n",
      "RangeIndex: 1048575 entries, 0 to 1048574\n",
      "Data columns (total 22 columns):\n",
      " #   Column                Non-Null Count    Dtype \n",
      "---  ------                --------------    ----- \n",
      " 0   USMER                 1048575 non-null  int64 \n",
      " 1   MEDICAL_UNIT          1048575 non-null  int64 \n",
      " 2   SEX                   1048575 non-null  int64 \n",
      " 3   PATIENT_TYPE          1048575 non-null  int64 \n",
      " 4   DATE_DIED             1048575 non-null  object\n",
      " 5   INTUBED               1048575 non-null  int64 \n",
      " 6   PNEUMONIA             1048575 non-null  int64 \n",
      " 7   AGE                   1048575 non-null  int64 \n",
      " 8   PREGNANT              1048575 non-null  int64 \n",
      " 9   DIABETES              1048575 non-null  int64 \n",
      " 10  COPD                  1048575 non-null  int64 \n",
      " 11  ASTHMA                1048575 non-null  int64 \n",
      " 12  INMSUPR               1048575 non-null  int64 \n",
      " 13  HIPERTENSION          1048575 non-null  int64 \n",
      " 14  OTHER_DISEASE         1048575 non-null  int64 \n",
      " 15  CARDIOVASCULAR        1048575 non-null  int64 \n",
      " 16  OBESITY               1048575 non-null  int64 \n",
      " 17  RENAL_CHRONIC         1048575 non-null  int64 \n",
      " 18  TOBACCO               1048575 non-null  int64 \n",
      " 19  CLASIFFICATION_FINAL  1048575 non-null  int64 \n",
      " 20  ICU                   1048575 non-null  int64 \n",
      " 21  died                  1048575 non-null  bool  \n",
      "dtypes: bool(1), int64(20), object(1)\n",
      "memory usage: 169.0+ MB\n"
     ]
    }
   ],
   "source": [
    "df.info()"
   ]
  },
  {
   "cell_type": "code",
   "execution_count": 11,
   "metadata": {},
   "outputs": [],
   "source": [
    "# USER = 1차 진료 기관 여부 1 = YES 2= NO\n",
    "#medical_unit\t진료받은 의료 기관 코드\t병원 종류나 지역\n",
    "#sex\t성별\t1=남자, 2=여자\n",
    "#patient_type\t외래 vs 입원 여부\t1=외래, 2=입원\n",
    "#date_died\t사망일\t'9999-99-99'이면 아직 생존\n",
    "#intubed\t삽관 여부\t1=Yes, 2=No, 97=알 수 없음\n",
    "#pneumonia\t폐렴 여부\t1=Yes, 2=No\n",
    "#age\t나이\t숫자\n",
    "#pregnant\t임신 여부 (여성만 해당)\t1=Yes, 2=No\n",
    "#diabetes\t당뇨 여부\t1=Yes, 2=No\n",
    "#copd\t만성폐쇄성폐질환 여부\t1=Yes, 2=No\n",
    "#asthma\t천식 여부\t1=Yes, 2=No\n",
    "#inmsupr\t면역억제 여부\t1=Yes, 2=No\n",
    "#hipertension\t고혈압 여부\t1=Yes, 2=No\n",
    "#other_disease\t기타 질환\t1=Yes, 2=No\n",
    "# cardiovascular\t심혈관 질환\t1=Yes, 2=No\n",
    "#obesity\t비만 여부\t1=Yes, 2=No\n",
    "#renal_chronic\t만성 신장 질환\t1=Yes, 2=No\n",
    "#tobacco\t흡연 여부\t1=Yes, 2=No\n",
    "#clasiffication_final\t코로나 확진 여부\t1=양성, 2=음성, 3=의심\n",
    "#icu\t중환자실 입실 여부\t1=Yes, 2=No, 97=모름\n"
   ]
  },
  {
   "cell_type": "code",
   "execution_count": 12,
   "metadata": {},
   "outputs": [],
   "source": [
    "# 전체 중 고혈압 환자\n",
    "high_hpt=df[df['HIPERTENSION']==1]\n",
    "\n",
    "#전체 중 고혈압 아닌 환자\n",
    "no_hpt = df[df['HIPERTENSION']==2]"
   ]
  },
  {
   "cell_type": "code",
   "execution_count": 13,
   "metadata": {},
   "outputs": [
    {
     "name": "stdout",
     "output_type": "stream",
     "text": [
      "총 162729명 고혈압 환자 데이터\n"
     ]
    }
   ],
   "source": [
    "print(f\"총 {len(high_hpt)}명 고혈압 환자 데이터\")"
   ]
  },
  {
   "cell_type": "code",
   "execution_count": 20,
   "metadata": {},
   "outputs": [
    {
     "name": "stdout",
     "output_type": "stream",
     "text": [
      "고혈압 환자 비율: 15.519%\n"
     ]
    }
   ],
   "source": [
    "hpt_count=round(len(high_hpt)/len(df)*100,3)\n",
    "print(f\"고혈압 환자 비율: {hpt_count}%\")"
   ]
  },
  {
   "cell_type": "code",
   "execution_count": 21,
   "metadata": {},
   "outputs": [
    {
     "name": "stdout",
     "output_type": "stream",
     "text": [
      "32061명\n"
     ]
    }
   ],
   "source": [
    "#고혈압 중 사망자\n",
    "dead_high_hpt=df[(df['HIPERTENSION'] == 1) & (df['DATE_DIED'] != '9999-99-99')]\n",
    "print(f\"{len(dead_high_hpt)}명\")"
   ]
  },
  {
   "cell_type": "code",
   "execution_count": 22,
   "metadata": {},
   "outputs": [
    {
     "name": "stdout",
     "output_type": "stream",
     "text": [
      "44191명\n"
     ]
    }
   ],
   "source": [
    "# 고혈압 없는 사람 중 사망자\n",
    "dead_no_hpt=df[(df['HIPERTENSION'] == 2) & (df['DATE_DIED'] != '9999-99-99')]\n",
    "print(f\"{len(dead_no_hpt)}명\")"
   ]
  },
  {
   "cell_type": "code",
   "execution_count": 23,
   "metadata": {},
   "outputs": [],
   "source": [
    "death_rate_high = round(len(dead_high_hpt)/len(high_hpt)*100,3)\n",
    "death_rate_no = round(len(dead_no_hpt)/len(no_hpt)*100,3)"
   ]
  },
  {
   "cell_type": "code",
   "execution_count": 24,
   "metadata": {},
   "outputs": [
    {
     "name": "stdout",
     "output_type": "stream",
     "text": [
      "고혈압 환자 사망률 : 19.702\n",
      "고혈압 없는 환자 사망률 : 5.006\n"
     ]
    }
   ],
   "source": [
    "print(f\"고혈압 환자 사망률 : {death_rate_high}\")\n",
    "print(f\"고혈압 없는 환자 사망률 : {death_rate_no}\")"
   ]
  },
  {
   "cell_type": "markdown",
   "metadata": {},
   "source": [
    "코로나 확진자 분석"
   ]
  },
  {
   "cell_type": "code",
   "execution_count": 25,
   "metadata": {},
   "outputs": [],
   "source": [
    "#기저 질환이 코로나 사망률에 끼치는 영향"
   ]
  },
  {
   "cell_type": "code",
   "execution_count": 26,
   "metadata": {},
   "outputs": [],
   "source": [
    "# 코로나 확진자\n",
    "cvd = df[df['CLASIFFICATION_FINAL'] ==1]"
   ]
  },
  {
   "cell_type": "code",
   "execution_count": 27,
   "metadata": {},
   "outputs": [],
   "source": [
    "# 코로나 확진자 사망자\n",
    "dead_cvd = cvd[cvd['DATE_DIED'] != '9999-99-99']"
   ]
  },
  {
   "cell_type": "code",
   "execution_count": 28,
   "metadata": {},
   "outputs": [],
   "source": [
    "#기저 질환 리스트\n",
    "disease_list = ['DIABETES','HIPERTENSION','OBESITY']\n",
    "results = {}"
   ]
  },
  {
   "cell_type": "code",
   "execution_count": 29,
   "metadata": {},
   "outputs": [
    {
     "name": "stdout",
     "output_type": "stream",
     "text": [
      "Diabetes:\n",
      "  * With    : 30.885%\n",
      "  * Without : 7.695%\n",
      "\n",
      "Hipertension:\n",
      "  * With    : 25.768%\n",
      "  * Without : 7.942%\n",
      "\n",
      "Obesity:\n",
      "  * With    : 14.687%\n",
      "  * Without : 10.142%\n",
      "\n"
     ]
    }
   ],
   "source": [
    "for disease in disease_list :\n",
    "    with_disease = cvd[cvd[disease]==1]\n",
    "    without_disease = cvd[cvd[disease]==2]\n",
    "    \n",
    "    death_rate_with = round(with_disease['died'].mean()*100,3)\n",
    "    death_rate_without = round(without_disease['died'].mean()*100,3)\n",
    "    \n",
    "    results[disease] = {\n",
    "        'with': death_rate_with,\n",
    "        'without': death_rate_without\n",
    "    }\n",
    "\n",
    "for disease, rates in results.items():\n",
    "    print(f\"{disease.capitalize()}:\")\n",
    "    print(f\"  * With    : {rates['with']}%\")\n",
    "    print(f\"  * Without : {rates['without']}%\\n\")\n"
   ]
  },
  {
   "cell_type": "code",
   "execution_count": 34,
   "metadata": {},
   "outputs": [
    {
     "data": {
      "image/png": "[encoded data removed]",
      "text/plain": [
       "<Figure size 1000x600 with 1 Axes>"
      ]
     },
     "metadata": {},
     "output_type": "display_data"
    }
   ],
   "source": [
    "# x축에 표시할 질병 이름 리스트 (첫 글자만 대문자)\n",
    "labels = [d.capitalize() for d in disease_list]\n",
    "\n",
    "# 각각 질병에 대해 with/without 사망률 꺼내기\n",
    "with_rates = [results[d]['with'] for d in disease_list]\n",
    "without_rates = [results[d]['without'] for d in disease_list]\n",
    "\n",
    "# x 위치 지정\n",
    "x = range(len(disease_list))\n",
    "\n",
    "# 그래프 그리기\n",
    "plt.figure(figsize=(10, 6))\n",
    "plt.bar(x, with_rates, width=0.4, label='With Disease', align='center')\n",
    "plt.bar([i + 0.4 for i in x], without_rates, width=0.4, label='Without Disease', align='center')\n",
    "\n",
    "# x축 눈금 위치 + 라벨\n",
    "plt.xticks([i + 0.2 for i in x], labels)\n",
    "\n",
    "# 그래프 제목과 라벨\n",
    "plt.ylabel(\"Death Rate (%)\")\n",
    "plt.title(\"COVID-19 Death Rate by Comorbidity\")\n",
    "plt.legend()\n",
    "plt.grid(axis='y')\n",
    "plt.tight_layout()\n",
    "plt.show()\n"
   ]
  },
  {
   "cell_type": "code",
   "execution_count": 43,
   "metadata": {},
   "outputs": [
    {
     "name": "stdout",
     "output_type": "stream",
     "text": [
      "Classification Report:\n",
      "               precision    recall  f1-score   support\n",
      "\n",
      "           0       0.93      0.97      0.95      1530\n",
      "           1       0.63      0.42      0.51       191\n",
      "\n",
      "    accuracy                           0.91      1721\n",
      "   macro avg       0.78      0.70      0.73      1721\n",
      "weighted avg       0.90      0.91      0.90      1721\n",
      "\n",
      "Confusion Matrix:\n",
      " [[1483   47]\n",
      " [ 110   81]]\n"
     ]
    }
   ],
   "source": [
    "import pandas as pd\n",
    "from sklearn.model_selection import train_test_split\n",
    "from sklearn.linear_model import LogisticRegression\n",
    "from sklearn.metrics import classification_report, confusion_matrix\n",
    "\n",
    "# 데이터 불러오기\n",
    "df = pd.read_csv(\"Covid Data.csv\")\n",
    "\n",
    "# died 컬럼 생성\n",
    "df['died'] = df['DATE_DIED'] != '9999-99-99'\n",
    "\n",
    "# 코로나 확진자만 필터링\n",
    "confirmed = df[df['CLASIFFICATION_FINAL'] == 1]\n",
    "\n",
    "# 사용할 컬럼 선택 (원하면 더 추가 가능)\n",
    "features = ['AGE', 'SEX', 'DIABETES', 'HIPERTENSION', 'OBESITY', 'PNEUMONIA']\n",
    "X = confirmed[features]\n",
    "y = confirmed['died'].astype(int)  # True/False → 1/0으로 변환\n",
    "\n",
    "# 결측치 제거 (있다면)\n",
    "X = X.dropna()\n",
    "y = y.loc[X.index]\n",
    "\n",
    "# 학습용/테스트용 데이터 분리\n",
    "X_train, X_test, y_train, y_test = train_test_split(X, y, test_size=0.2, random_state=42)\n",
    "\n",
    "# 로지스틱 회귀 모델 학습\n",
    "model = LogisticRegression(max_iter=1000)\n",
    "model.fit(X_train, y_train)\n",
    "\n",
    "# 예측 및 평가\n",
    "y_pred = model.predict(X_test)\n",
    "\n",
    "print(\"Classification Report:\\n\", classification_report(y_test, y_pred))\n",
    "print(\"Confusion Matrix:\\n\", confusion_matrix(y_test, y_pred))\n"
   ]
  },
  {
   "cell_type": "code",
   "execution_count": null,
   "metadata": {},
   "outputs": [],
   "source": []
  }
 ],
 "metadata": {
  "kernelspec": {
   "display_name": "Python 3",
   "language": "python",
   "name": "python3"
  },
  "language_info": {
   "codemirror_mode": {
    "name": "ipython",
    "version": 3
   },
   "file_extension": ".py",
   "mimetype": "text/x-python",
   "name": "python",
   "nbconvert_exporter": "python",
   "pygments_lexer": "ipython3",
   "version": "3.11.7"
  }
 },
 "nbformat": 4,
 "nbformat_minor": 2
}
