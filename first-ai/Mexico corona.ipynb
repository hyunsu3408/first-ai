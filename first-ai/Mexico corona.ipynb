{
 "cells": [
  {
   "cell_type": "code",
   "execution_count": 77,
   "metadata": {},
   "outputs": [],
   "source": [
    "import pandas as pd\n",
    "import matplotlib.pyplot as plt\n",
    "\n",
    "#csv 파일 읽기\n",
    "df = pd.read_csv(\"Covid Data.csv\")\n",
    "df['died'] = df['DATE_DIED'] != '9999-99-99'"
   ]
  },
  {
   "cell_type": "code",
   "execution_count": 78,
   "metadata": {},
   "outputs": [
    {
     "name": "stdout",
     "output_type": "stream",
     "text": [
      "<class 'pandas.core.frame.DataFrame'>\n",
      "RangeIndex: 1048575 entries, 0 to 1048574\n",
      "Data columns (total 22 columns):\n",
      " #   Column                Non-Null Count    Dtype \n",
      "---  ------                --------------    ----- \n",
      " 0   USMER                 1048575 non-null  int64 \n",
      " 1   MEDICAL_UNIT          1048575 non-null  int64 \n",
      " 2   SEX                   1048575 non-null  int64 \n",
      " 3   PATIENT_TYPE          1048575 non-null  int64 \n",
      " 4   DATE_DIED             1048575 non-null  object\n",
      " 5   INTUBED               1048575 non-null  int64 \n",
      " 6   PNEUMONIA             1048575 non-null  int64 \n",
      " 7   AGE                   1048575 non-null  int64 \n",
      " 8   PREGNANT              1048575 non-null  int64 \n",
      " 9   DIABETES              1048575 non-null  int64 \n",
      " 10  COPD                  1048575 non-null  int64 \n",
      " 11  ASTHMA                1048575 non-null  int64 \n",
      " 12  INMSUPR               1048575 non-null  int64 \n",
      " 13  HIPERTENSION          1048575 non-null  int64 \n",
      " 14  OTHER_DISEASE         1048575 non-null  int64 \n",
      " 15  CARDIOVASCULAR        1048575 non-null  int64 \n",
      " 16  OBESITY               1048575 non-null  int64 \n",
      " 17  RENAL_CHRONIC         1048575 non-null  int64 \n",
      " 18  TOBACCO               1048575 non-null  int64 \n",
      " 19  CLASIFFICATION_FINAL  1048575 non-null  int64 \n",
      " 20  ICU                   1048575 non-null  int64 \n",
      " 21  died                  1048575 non-null  bool  \n",
      "dtypes: bool(1), int64(20), object(1)\n",
      "memory usage: 169.0+ MB\n"
     ]
    }
   ],
   "source": [
    "df.info()"
   ]
  },
  {
   "cell_type": "code",
   "execution_count": 79,
   "metadata": {},
   "outputs": [],
   "source": [
    "# USER = 1차 진료 기관 여부 1 = YES 2= NO\n",
    "#medical_unit\t진료받은 의료 기관 코드\t병원 종류나 지역\n",
    "#sex\t성별\t1=남자, 2=여자\n",
    "#patient_type\t외래 vs 입원 여부\t1=외래, 2=입원\n",
    "#date_died\t사망일\t'9999-99-99'이면 아직 생존\n",
    "#intubed\t삽관 여부\t1=Yes, 2=No, 97=알 수 없음\n",
    "#pneumonia\t폐렴 여부\t1=Yes, 2=No\n",
    "#age\t나이\t숫자\n",
    "#pregnant\t임신 여부 (여성만 해당)\t1=Yes, 2=No\n",
    "#diabetes\t당뇨 여부\t1=Yes, 2=No\n",
    "#copd\t만성폐쇄성폐질환 여부\t1=Yes, 2=No\n",
    "#asthma\t천식 여부\t1=Yes, 2=No\n",
    "#inmsupr\t면역억제 여부\t1=Yes, 2=No\n",
    "#hipertension\t고혈압 여부\t1=Yes, 2=No\n",
    "#other_disease\t기타 질환\t1=Yes, 2=No\n",
    "# cardiovascular\t심혈관 질환\t1=Yes, 2=No\n",
    "#obesity\t비만 여부\t1=Yes, 2=No\n",
    "#renal_chronic\t만성 신장 질환\t1=Yes, 2=No\n",
    "#tobacco\t흡연 여부\t1=Yes, 2=No\n",
    "#clasiffication_final\t코로나 확진 여부\t1=양성, 2=음성, 3=의심\n",
    "#icu\t중환자실 입실 여부\t1=Yes, 2=No, 97=모름\n"
   ]
  },
  {
   "cell_type": "code",
   "execution_count": 80,
   "metadata": {},
   "outputs": [],
   "source": [
    "# 전체 중 고혈압 환자\n",
    "high_hpt=df[df['HIPERTENSION']==1]\n",
    "\n",
    "#전체 중 고혈압 아닌 환자\n",
    "no_hpt = df[df['HIPERTENSION']==2]"
   ]
  },
  {
   "cell_type": "code",
   "execution_count": 81,
   "metadata": {},
   "outputs": [
    {
     "name": "stdout",
     "output_type": "stream",
     "text": [
      "총 162729명 고혈압 환자 데이터\n"
     ]
    }
   ],
   "source": [
    "print(f\"총 {len(high_hpt)}명 고혈압 환자 데이터\")"
   ]
  },
  {
   "cell_type": "code",
   "execution_count": 82,
   "metadata": {},
   "outputs": [
    {
     "name": "stdout",
     "output_type": "stream",
     "text": [
      "고혈압 환자 비율: 15.519%\n"
     ]
    }
   ],
   "source": [
    "hpt_count=round(len(hpt)/len(df)*100,3)\n",
    "print(f\"고혈압 환자 비율: {hpt_count}%\")"
   ]
  },
  {
   "cell_type": "code",
   "execution_count": 83,
   "metadata": {},
   "outputs": [
    {
     "name": "stdout",
     "output_type": "stream",
     "text": [
      "32061명\n"
     ]
    }
   ],
   "source": [
    "#고혈압 중 사망자\n",
    "dead_high_hpt=df[(df['HIPERTENSION'] == 1) & (df['DATE_DIED'] != '9999-99-99')]\n",
    "print(f\"{len(dead_high_hpt)}명\")"
   ]
  },
  {
   "cell_type": "code",
   "execution_count": 84,
   "metadata": {},
   "outputs": [
    {
     "name": "stdout",
     "output_type": "stream",
     "text": [
      "44191명\n"
     ]
    }
   ],
   "source": [
    "# 고혈압 없는 사람 중 사망자\n",
    "dead_no_hpt=df[(df['HIPERTENSION'] == 2) & (df['DATE_DIED'] != '9999-99-99')]\n",
    "print(f\"{len(dead_no_hpt)}명\")"
   ]
  },
  {
   "cell_type": "code",
   "execution_count": 85,
   "metadata": {},
   "outputs": [],
   "source": [
    "death_rate_high = round(len(dead_high_hpt)/len(high_hpt)*100,3)\n",
    "death_rate_no = round(len(dead_no_hpt)/len(no_hpt)*100,3)"
   ]
  },
  {
   "cell_type": "code",
   "execution_count": 86,
   "metadata": {},
   "outputs": [
    {
     "name": "stdout",
     "output_type": "stream",
     "text": [
      "고혈압 환자 사망률 : 19.702\n",
      "고혈압 없는 환자 사망률 : 5.006\n"
     ]
    }
   ],
   "source": [
    "print(f\"고혈압 환자 사망률 : {death_rate_high}\")\n",
    "print(f\"고혈압 없는 환자 사망률 : {death_rate_no}\")"
   ]
  },
  {
   "cell_type": "markdown",
   "metadata": {},
   "source": [
    "코로나 확진자 분석"
   ]
  },
  {
   "cell_type": "code",
   "execution_count": 87,
   "metadata": {},
   "outputs": [],
   "source": [
    "#기저 질환이 코로나 사망률에 끼치는 영향"
   ]
  },
  {
   "cell_type": "code",
   "execution_count": 88,
   "metadata": {},
   "outputs": [],
   "source": [
    "# 코로나 확진자\n",
    "cvd = df[df['CLASIFFICATION_FINAL'] ==1]"
   ]
  },
  {
   "cell_type": "code",
   "execution_count": 89,
   "metadata": {},
   "outputs": [],
   "source": [
    "# 코로나 확진자 사망자\n",
    "dead_cvd = cvd[cvd['DATE_DIED'] != '9999-99-99']"
   ]
  },
  {
   "cell_type": "code",
   "execution_count": 90,
   "metadata": {},
   "outputs": [],
   "source": [
    "#기저 질환 리스트\n",
    "disease_list = ['DIABETES','HIPERTENSION','OBESITY']\n",
    "results = {}"
   ]
  },
  {
   "cell_type": "code",
   "execution_count": 93,
   "metadata": {},
   "outputs": [
    {
     "name": "stdout",
     "output_type": "stream",
     "text": [
      "Diabetes:\n",
      "  * With    : 30.885%\n",
      "  * Without : 7.695%\n",
      "\n",
      "Hipertension:\n",
      "  * With    : 25.768%\n",
      "  * Without : 7.942%\n",
      "\n",
      "Obesity:\n",
      "  * With    : 14.687%\n",
      "  * Without : 10.142%\n",
      "\n"
     ]
    }
   ],
   "source": [
    "for disease in disease_list :\n",
    "    with_disease = cvd[cvd[disease]==1]\n",
    "    without_disease = cvd[cvd[disease]==2]\n",
    "    \n",
    "    death_rate_with = round(with_disease['died'].mean()*100,3)\n",
    "    death_rate_without = round(without_disease['died'].mean()*100,3)\n",
    "    \n",
    "    results[disease] = {\n",
    "        'with': death_rate_with,\n",
    "        'without': death_rate_without\n",
    "    }\n",
    "\n",
    "for disease, rates in results.items():\n",
    "    print(f\"{disease.capitalize()}:\")\n",
    "    print(f\"  * With    : {rates['with']}%\")\n",
    "    print(f\"  * Without : {rates['without']}%\\n\")\n"
   ]
  },
  {
   "cell_type": "code",
   "execution_count": null,
   "metadata": {},
   "outputs": [],
   "source": []
  }
 ],
 "metadata": {
  "kernelspec": {
   "display_name": "Python 3",
   "language": "python",
   "name": "python3"
  },
  "language_info": {
   "codemirror_mode": {
    "name": "ipython",
    "version": 3
   },
   "file_extension": ".py",
   "mimetype": "text/x-python",
   "name": "python",
   "nbconvert_exporter": "python",
   "pygments_lexer": "ipython3",
   "version": "3.11.7"
  }
 },
 "nbformat": 4,
 "nbformat_minor": 2
}
